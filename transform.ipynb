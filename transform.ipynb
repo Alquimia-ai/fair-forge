{
 "cells": [
  {
   "cell_type": "code",
   "execution_count": null,
   "id": "b8b8c4d7-eff7-4dfe-9189-a43c6f0466dc",
   "metadata": {},
   "outputs": [],
   "source": [
    "!pip install -r requirements.txt -q"
   ]
  },
  {
   "cell_type": "code",
   "execution_count": null,
   "id": "113706d3-755a-426c-8979-13e3da6fa1a0",
   "metadata": {},
   "outputs": [],
   "source": [
    "es = Elasticsearch(\n",
    "    ELASTIC_URL,\n",
    "    basic_auth=tuple(ELASTIC_AUTH),\n",
    ")"
   ]
  },
  {
   "cell_type": "code",
   "execution_count": null,
   "id": "c47cd6be-a3e6-44ce-9a49-11e3d9ab0767",
   "metadata": {},
   "outputs": [],
   "source": [
    "conversation_index = f\"{dataset}-conversational\""
   ]
  },
  {
   "cell_type": "code",
   "execution_count": null,
   "id": "b8c3617f-4639-4bee-8980-8bc0cbb547ef",
   "metadata": {},
   "outputs": [],
   "source": [
    "transform_config = {\n",
    "    \"source\": {\n",
    "        \"index\": [f\"{dataset}-runtime\", f\"{dataset}-conversational\", f\"{dataset}-context\", f\"{dataset}-humanity\"]\n",
    "    },\n",
    "    \"dest\": {\n",
    "        \"index\": f\"{dataset}\"\n",
    "    },\n",
    "    \"pivot\": {\n",
    "        \"group_by\": {\n",
    "            \"session_id\": {\n",
    "                \"terms\": {\n",
    "                    \"field\": \"session_id\"\n",
    "                }\n",
    "            },\n",
    "            \"qa_id\": {\n",
    "                \"terms\": {\n",
    "                    \"field\": \"qa_id\"\n",
    "                }\n",
    "            }\n",
    "        },\n",
    "        \"aggregations\": {\n",
    "            \"assistant\": {\n",
    "                \"scripted_metric\": {\n",
    "                    \"init_script\": \"state.assistant = []\",\n",
    "                    \"map_script\": \"if (doc.containsKey('assistant') && !doc['assistant'].empty) { state.assistant.add(doc['assistant'].value) }\",\n",
    "                    \"combine_script\": \"return state.assistant\",\n",
    "                    \"reduce_script\": \"def list = []; for (s in states) { list.addAll(s) } return list\"\n",
    "                }\n",
    "            }\n",
    "        }\n",
    "    }\n",
    "}"
   ]
  },
  {
   "cell_type": "code",
   "execution_count": null,
   "id": "8dd50dc4-9781-4036-914a-6466eba7fa9b",
   "metadata": {},
   "outputs": [],
   "source": [
    "response = es.transport.perform_request(\n",
    "    \"PUT\", \n",
    "    \"/_transform/transform_conversacion_unificada\", \n",
    "    body=json.dumps(transform_config)\n",
    ")\n",
    "print(\"Transform creado:\", response)"
   ]
  },
  {
   "cell_type": "code",
   "execution_count": null,
   "id": "87f95635-faf9-4db8-ba1c-ef963de5d1c5",
   "metadata": {},
   "outputs": [],
   "source": [
    "start_response = es.transport.perform_request(\n",
    "    \"POST\",\n",
    "    \"/_transform/transform_conversacion_unificada/_start\"\n",
    ")\n",
    "print(\"Transform iniciado:\", start_response)"
   ]
  }
 ],
 "metadata": {
  "kernelspec": {
   "display_name": "Python 3.11",
   "language": "python",
   "name": "python3"
  },
  "language_info": {
   "codemirror_mode": {
    "name": "ipython",
    "version": 3
   },
   "file_extension": ".py",
   "mimetype": "text/x-python",
   "name": "python",
   "nbconvert_exporter": "python",
   "pygments_lexer": "ipython3",
   "version": "3.11.7"
  }
 },
 "nbformat": 4,
 "nbformat_minor": 5
}
