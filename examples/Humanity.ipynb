{
 "cells": [
  {
   "cell_type": "code",
   "execution_count": null,
   "id": "aff02e77-ce1c-4b99-b3dd-c8ed2db1ad83",
   "metadata": {},
   "outputs": [],
   "source": [
    "!pip install --force-reinstall dist/alquimia_fair_forge-0.0.1.tar.gz -q"
   ]
  },
  {
   "cell_type": "code",
   "execution_count": null,
   "id": "ad4a3e22-58e8-4953-8abf-24bfd9791e45",
   "metadata": {},
   "outputs": [],
   "source": [
    "from fair_forge.metrics import Humanity\n",
    "from helpers.dataset import CustomRetriever"
   ]
  },
  {
   "cell_type": "markdown",
   "metadata": {},
   "source": [
    "## Emotional entropy\n",
    "Based on NRC emotional lexicon and Plutchik eight basic emotions\n",
    "\n",
    "TODO:\n",
    "- Implement Emotion matching\n",
    "- Implement Language Style Matching, LSM\n",
    "- Implement Agreeableness\n",
    "- Implement Empathy, Empathic Concern"
   ]
  },
  {
   "cell_type": "code",
   "execution_count": 3,
   "metadata": {},
   "outputs": [],
   "source": [
    "metrics = Humanity.run(CustomRetriever)"
   ]
  },
  {
   "cell_type": "code",
   "execution_count": null,
   "metadata": {},
   "outputs": [],
   "source": [
    "metrics[0]"
   ]
  },
  {
   "cell_type": "code",
   "execution_count": null,
   "id": "80672b81-e63c-417f-93d6-3933a4c9fe91",
   "metadata": {},
   "outputs": [],
   "source": [
    "ELASTIC_URL = os.environ.get('ELASTIC_URL')\n",
    "ELASTIC_AUTH = [os.environ.get('ELASTIC_AUTH_USER'), os.environ.get('ELASTIC_AUTH_PASSWORD')]\n",
    "dataset = os.environ.get(\"dataset\", \"asb\")\n",
    "humanity_index = f\"{dataset}-humanity\""
   ]
  },
  {
   "cell_type": "code",
   "execution_count": 3,
   "id": "d3f0cd6d-be23-4a3b-8eb6-3351e72125dd",
   "metadata": {},
   "outputs": [],
   "source": [
    "def recreate_index(index_name: str, mapping: dict):\n",
    "    if es.indices.exists(index=index_name):\n",
    "        es.indices.delete(index=index_name)\n",
    "        print(f\"Index '{index_name}' deleted.\")\n",
    "    es.indices.create(index=index_name, body=mapping)\n",
    "    print(f\"Index '{index_name}' created.\")"
   ]
  },
  {
   "cell_type": "code",
   "execution_count": null,
   "id": "32d34a60-b798-45a4-8f1b-51420cb7a003",
   "metadata": {},
   "outputs": [],
   "source": [
    "es = Elasticsearch(\n",
    "    ELASTIC_URL,\n",
    "    basic_auth=tuple(ELASTIC_AUTH),\n",
    ")"
   ]
  },
  {
   "cell_type": "code",
   "execution_count": null,
   "id": "3cf13f41-55bd-4b38-93dc-7e18bab6a744",
   "metadata": {},
   "outputs": [],
   "source": [
    "mapping_humanity = {\n",
    "  \"mappings\": {\n",
    "    \"properties\": {\n",
    "      \"session_id\": {\"type\": \"keyword\"},\n",
    "      \"humanity_assistant_emotional_entropy\": {\"type\": \"float\"},\n",
    "      \"humanity_ground_truth_spearman\": {\"type\": \"float\"},\n",
    "      \"humanity_assistant_anger\": {\"type\": \"float\"},\n",
    "      \"humanity_assistant_anticipation\": {\"type\": \"float\"},\n",
    "      \"humanity_assistant_disgust\": {\"type\": \"float\"},\n",
    "      \"humanity_assistant_fear\": {\"type\": \"float\"},\n",
    "      \"humanity_assistant_joy\": {\"type\": \"float\"},\n",
    "      \"humanity_assistant_sadness\": {\"type\": \"float\"},\n",
    "      \"humanity_assistant_surprise\": {\"type\": \"float\"},\n",
    "      \"humanity_assistant_trust\": {\"type\": \"float\"},\n",
    "      \"assistant_id\": {\"type\": \"keyword\"},\n",
    "      \"qa_id\": {\"type\": \"keyword\"},\n",
    "    }\n",
    "  }\n",
    "}\n",
    "recreate_index(humanity_index, mapping_humanity)"
   ]
  },
  {
   "cell_type": "code",
   "execution_count": null,
   "metadata": {},
   "outputs": [],
   "source": [
    "docs = []\n",
    "for metric in metrics:\n",
    "    docs.append({\n",
    "            \"_index\": humanity_index,\n",
    "            \"_source\": metric.model_dump()\n",
    "    })\n",
    "\n",
    "helpers.bulk(es, docs)\n",
    "print(f\"Indexed {len(docs)} documents.\")"
   ]
  }
 ],
 "metadata": {
  "kernelspec": {
   "display_name": "venv",
   "language": "python",
   "name": "python3"
  },
  "language_info": {
   "codemirror_mode": {
    "name": "ipython",
    "version": 3
   },
   "file_extension": ".py",
   "mimetype": "text/x-python",
   "name": "python",
   "nbconvert_exporter": "python",
   "pygments_lexer": "ipython3",
   "version": "3.12.9"
  }
 },
 "nbformat": 4,
 "nbformat_minor": 4
}
