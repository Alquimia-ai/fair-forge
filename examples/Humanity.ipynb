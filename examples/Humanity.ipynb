{
 "cells": [
  {
   "cell_type": "code",
   "execution_count": 1,
   "id": "aff02e77-ce1c-4b99-b3dd-c8ed2db1ad83",
   "metadata": {},
   "outputs": [
    {
     "name": "stdout",
     "output_type": "stream",
     "text": [
      "\n",
      "\u001b[1m[\u001b[0m\u001b[34;49mnotice\u001b[0m\u001b[1;39;49m]\u001b[0m\u001b[39;49m A new release of pip is available: \u001b[0m\u001b[31;49m25.0\u001b[0m\u001b[39;49m -> \u001b[0m\u001b[32;49m25.1.1\u001b[0m\n",
      "\u001b[1m[\u001b[0m\u001b[34;49mnotice\u001b[0m\u001b[1;39;49m]\u001b[0m\u001b[39;49m To update, run: \u001b[0m\u001b[32;49mpip install --upgrade pip\u001b[0m\n"
     ]
    }
   ],
   "source": [
    "!pip install --force-reinstall dist/alquimia_fair_forge-0.0.1.tar.gz -q"
   ]
  },
  {
   "cell_type": "code",
   "execution_count": 2,
   "id": "ad4a3e22-58e8-4953-8abf-24bfd9791e45",
   "metadata": {},
   "outputs": [
    {
     "name": "stderr",
     "output_type": "stream",
     "text": [
      "/Users/alexfiorenza/Documents/software_development/projects/alquimia/fair-forge/venv/lib/python3.12/site-packages/tqdm/auto.py:21: TqdmWarning: IProgress not found. Please update jupyter and ipywidgets. See https://ipywidgets.readthedocs.io/en/stable/user_install.html\n",
      "  from .autonotebook import tqdm as notebook_tqdm\n"
     ]
    }
   ],
   "source": [
    "from fair_forge.metrics import Humanity\n",
    "from helpers.retriever import CustomRetriever"
   ]
  },
  {
   "cell_type": "markdown",
   "metadata": {},
   "source": [
    "## Emotional entropy\n",
    "Based on NRC emotional lexicon and Plutchik eight basic emotions\n",
    "\n",
    "TODO:\n",
    "- Implement Emotion matching\n",
    "- Implement Language Style Matching, LSM\n",
    "- Implement Agreeableness\n",
    "- Implement Empathy, Empathic Concern"
   ]
  },
  {
   "cell_type": "code",
   "execution_count": 3,
   "metadata": {},
   "outputs": [
    {
     "name": "stderr",
     "output_type": "stream",
     "text": [
      "2025-05-19 12:42:33,203 - fair_forge - INFO - Loaded dataset with 1 batches\n",
      "2025-05-19 12:42:33,204 - fair_forge - INFO - Starting to process dataset\n",
      "2025-05-19 12:42:33,205 - fair_forge - INFO - Processing batch 1/1\n",
      "2025-05-19 12:42:33,206 - fair_forge - INFO - Session ID: 123, Assistant ID: 456\n",
      "2025-05-19 12:42:33,480 - fair_forge - DEBUG - Assistant distribution: {'Anger': 0.0, 'Anticipation': 0.3333333333333333, 'Disgust': 0.0, 'Fear': 0.0, 'Joy': 0.3333333333333333, 'Sadness': 0.0, 'Surprise': 0.0, 'Trust': 0.3333333333333333}\n",
      "2025-05-19 12:42:33,480 - fair_forge - DEBUG - Generated vector: [0.0, 0.3333333333333333, 0.0, 0.0, 0.3333333333333333, 0.0, 0.0, 0.3333333333333333]\n",
      "2025-05-19 12:42:33,480 - fair_forge - DEBUG - Spearman value: 0\n",
      "2025-05-19 12:42:33,481 - fair_forge - INFO - Completed processing all batches. Total metrics collected: 1\n"
     ]
    }
   ],
   "source": [
    "metrics = Humanity.run(CustomRetriever,verbose=True)"
   ]
  },
  {
   "cell_type": "code",
   "execution_count": null,
   "id": "80672b81-e63c-417f-93d6-3933a4c9fe91",
   "metadata": {},
   "outputs": [],
   "source": [
    "ELASTIC_URL = os.environ.get('ELASTIC_URL')\n",
    "ELASTIC_AUTH = [os.environ.get('ELASTIC_AUTH_USER'), os.environ.get('ELASTIC_AUTH_PASSWORD')]\n",
    "dataset = os.environ.get(\"dataset\", \"asb\")\n",
    "humanity_index = f\"{dataset}-humanity\""
   ]
  },
  {
   "cell_type": "code",
   "execution_count": 3,
   "id": "d3f0cd6d-be23-4a3b-8eb6-3351e72125dd",
   "metadata": {},
   "outputs": [],
   "source": [
    "def recreate_index(index_name: str, mapping: dict):\n",
    "    if es.indices.exists(index=index_name):\n",
    "        es.indices.delete(index=index_name)\n",
    "        print(f\"Index '{index_name}' deleted.\")\n",
    "    es.indices.create(index=index_name, body=mapping)\n",
    "    print(f\"Index '{index_name}' created.\")"
   ]
  },
  {
   "cell_type": "code",
   "execution_count": null,
   "id": "32d34a60-b798-45a4-8f1b-51420cb7a003",
   "metadata": {},
   "outputs": [],
   "source": [
    "es = Elasticsearch(\n",
    "    ELASTIC_URL,\n",
    "    basic_auth=tuple(ELASTIC_AUTH),\n",
    ")"
   ]
  },
  {
   "cell_type": "code",
   "execution_count": null,
   "id": "3cf13f41-55bd-4b38-93dc-7e18bab6a744",
   "metadata": {},
   "outputs": [],
   "source": [
    "mapping_humanity = {\n",
    "  \"mappings\": {\n",
    "    \"properties\": {\n",
    "      \"session_id\": {\"type\": \"keyword\"},\n",
    "      \"humanity_assistant_emotional_entropy\": {\"type\": \"float\"},\n",
    "      \"humanity_ground_truth_spearman\": {\"type\": \"float\"},\n",
    "      \"humanity_assistant_anger\": {\"type\": \"float\"},\n",
    "      \"humanity_assistant_anticipation\": {\"type\": \"float\"},\n",
    "      \"humanity_assistant_disgust\": {\"type\": \"float\"},\n",
    "      \"humanity_assistant_fear\": {\"type\": \"float\"},\n",
    "      \"humanity_assistant_joy\": {\"type\": \"float\"},\n",
    "      \"humanity_assistant_sadness\": {\"type\": \"float\"},\n",
    "      \"humanity_assistant_surprise\": {\"type\": \"float\"},\n",
    "      \"humanity_assistant_trust\": {\"type\": \"float\"},\n",
    "      \"assistant_id\": {\"type\": \"keyword\"},\n",
    "      \"qa_id\": {\"type\": \"keyword\"},\n",
    "    }\n",
    "  }\n",
    "}\n",
    "recreate_index(humanity_index, mapping_humanity)"
   ]
  },
  {
   "cell_type": "code",
   "execution_count": null,
   "metadata": {},
   "outputs": [],
   "source": [
    "docs = []\n",
    "for metric in metrics:\n",
    "    docs.append({\n",
    "            \"_index\": humanity_index,\n",
    "            \"_source\": metric.model_dump()\n",
    "    })\n",
    "\n",
    "helpers.bulk(es, docs)\n",
    "print(f\"Indexed {len(docs)} documents.\")"
   ]
  }
 ],
 "metadata": {
  "kernelspec": {
   "display_name": "venv",
   "language": "python",
   "name": "python3"
  },
  "language_info": {
   "codemirror_mode": {
    "name": "ipython",
    "version": 3
   },
   "file_extension": ".py",
   "mimetype": "text/x-python",
   "name": "python",
   "nbconvert_exporter": "python",
   "pygments_lexer": "ipython3",
   "version": "3.12.9"
  }
 },
 "nbformat": 4,
 "nbformat_minor": 4
}
