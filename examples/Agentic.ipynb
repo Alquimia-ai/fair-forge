{"cells": [
  {
   "cell_type": "code",
   "execution_count": null,
   "id": "aff02e77-ce1c-4b99-b3dd-c8ed2db1ad83",
   "metadata": {},
   "outputs": [],
   "source": [
    "!pip install -r requirements.txt -q"
   ]
  },
  {
   "cell_type": "code",
   "execution_count": null,
   "id": "ad4a3e22-58e8-4953-8abf-24bfd9791e45",
   "metadata": {},
   "outputs": [],
   "source": [
    "import os\n",
    "from helpers.dataset import Conversation\n",
    "from helpers.fair_forge import FairForge\n",
    "from elasticsearch import Elasticsearch, helpers\n",
    "from pydantic import BaseModel\n",
    "import logging"
   ]
  },
  {
   "cell_type": "code",
   "execution_count": null,
   "id": "80672b81-e63c-417f-93d6-3933a4c9fe91",
   "metadata": {},
   "outputs": [],
   "source": [
    "ELASTIC_URL = os.environ.get('ELASTIC_URL')\n",
    "ELASTIC_AUTH = [os.environ.get('ELASTIC_AUTH_USER'), os.environ.get('ELASTIC_AUTH_PASSWORD')]\n",
    "dataset = os.environ.get(\"dataset\", \"asb\")\n",
    "agentic_index = f\"{dataset}-agentic\""
   ]
  },
  {
   "cell_type": "code",
   "execution_count": null,
   "metadata": {},
   "outputs": [],
   "source": [
    "logging.basicConfig(level=logging.INFO, format='%(asctime)s - %(levelname)s - %(message)s')"
   ]
  },
  {
   "cell_type": "code",
   "execution_count": null,
   "id": "99f3b8c4-5dd6-4a28-b1be-06ee5de7e025",
   "metadata": {},
   "outputs": [],
   "source": [
    "class AgenticBatch(BaseModel):\n",
    "    agentic_leviathan_type: str\n",
    "    agentic_leviathan_ground_truth: dict\n",
    "    agentic_leviathan: dict\n",
    "    session_id: str\n",
    "    assistant_id: str\n",
    "    qa_id: str"
   ]
  },
  {
   "cell_type": "code",
   "execution_count": null,
   "id": "d3f0cd6d-be23-4a3b-8eb6-3351e72125dd",
   "metadata": {},
   "outputs": [],
   "source": [
    "class AgenticAnalyzer(FairForge):\n",
    "    def _check_tool(self, data):\n",
    "        if type(data) is dict and 'name' in data and 'parameters' in data:\n",
    "            return True\n",
    "        else:\n",
    "            return False\n",
    "            \n",
    "    def process(self, thread: Conversation):\n",
    "        for batch in thread.conversation:\n",
    "            leviathan_keys = batch.leviathan.keys()\n",
    "            for key in batch.ground_truth_leviathan.keys():\n",
    "                if key in leviathan_keys:\n",
    "                    batch = AgenticBatch(\n",
    "                        agentic_leviathan_type=key,\n",
    "                        agentic_leviathan_ground_truth = batch.ground_truth_leviathan[key],\n",
    "                        agentic_leviathan = batch.leviathan[key],\n",
    "                        session_id=thread.session_id,\n",
    "                        assistant_id=thread.assistant_id,\n",
    "                        qa_id=batch.qa_id\n",
    "                    )\n",
    "                    self.metrics.append(batch)\n",
    "        logging.info(f\"Finished processing thread for session_id: {thread.session_id}\")"
   ]
  },
  {
   "cell_type": "code",
   "execution_count": null,
   "id": "32d34a60-b798-45a4-8f1b-51420cb7a003",
   "metadata": {},
   "outputs": [],
   "source": [
    "agentic = AgenticAnalyzer()\n",
    "metrics = agentic.pipeline()"
   ]
  },
  {
   "cell_type": "code",
   "execution_count": null,
   "id": "0754d6b0-11dd-4b09-987a-dceae5014f56",
   "metadata": {},
   "outputs": [],
   "source": [
    "def recreate_index(index_name: str, mapping: dict):\n",
    "    if es.indices.exists(index=index_name):\n",
    "        es.indices.delete(index=index_name)\n",
    "        print(f\"Index '{index_name}' deleted.\")\n",
    "    es.indices.create(index=index_name, body=mapping)\n",
    "    print(f\"Index '{index_name}' created.\")"
   ]
  },
  {
   "cell_type": "code",
   "execution_count": null,
   "id": "3cf13f41-55bd-4b38-93dc-7e18bab6a744",
   "metadata": {},
   "outputs": [],
   "source": [
    "mapping_agentic = {\n",
    "  \"mappings\": {\n",
    "    \"properties\": {\n",
    "      \"agentic_leviathan_type\": {\"type\": \"text\"},\n",
    "      \"agentic_leviathan_ground_truth\": {\"type\": \"object\"},\n",
    "      \"agentic_leviathan\": {\"type\": \"object\"},\n",
    "      \"assistant_id\": {\"type\": \"keyword\"},\n",
    "      \"qa_id\": {\"type\": \"keyword\"},\n",
    "      \"assistant_id\": {\"type\":\"keyword\"}\n",
    "    }\n",
    "  }\n",
    "}"
   ]
  },
  {
   "cell_type": "code",
   "execution_count": null,
   "metadata": {},
   "outputs": [],
   "source": [
    "es = Elasticsearch(\n",
    "    ELASTIC_URL,\n",
    "    basic_auth=tuple(ELASTIC_AUTH),\n",
    ")"
   ]
  },
  {
   "cell_type": "code",
   "execution_count": null,
   "metadata": {},
   "outputs": [],
   "source": [
    "recreate_index(agentic_index, mapping_agentic)"
   ]
  },
  {
   "cell_type": "code",
   "execution_count": null,
   "metadata": {},
   "outputs": [],
   "source": [
    "docs = []\n",
    "for metric in metrics:\n",
    "    docs.append({\n",
    "            \"_index\": agentic_index,\n",
    "            \"_source\": metric.model_dump()\n",
    "    })\n",
    "\n",
    "helpers.bulk(es, docs)\n",
    "print(f\"Indexed {len(docs)} documents.\")"
   ]
  }
 ],
 "metadata": {
  "kernelspec": {
   "display_name": "Python 3",
   "language": "python",
   "name": "python3"
  },
  "language_info": {
   "codemirror_mode": {
    "name": "ipython",
    "version": 3
   },
   "file_extension": ".py",
   "mimetype": "text/x-python",
   "name": "python",
   "nbconvert_exporter": "python",
   "pygments_lexer": "ipython3",
   "version": "3.8.0"
  }
 },
 "nbformat": 4,
 "nbformat_minor": 4
}
