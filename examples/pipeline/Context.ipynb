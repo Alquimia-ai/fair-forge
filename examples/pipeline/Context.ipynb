{
 "cells": [
  {
   "cell_type": "code",
   "execution_count": null,
   "id": "aff02e77-ce1c-4b99-b3dd-c8ed2db1ad83",
   "metadata": {},
   "outputs": [],
   "source": [
    "%pip install ../dist/alquimia_fair_forge-0.0.1.tar.gz -q"
   ]
  },
  {
   "cell_type": "code",
   "execution_count": null,
   "metadata": {},
   "outputs": [],
   "source": [
    "from fair_forge.metrics import Context\n",
    "from pydantic import SecretStr\n",
    "from helpers.retriever import LakeFSRetriever\n",
    "from elasticsearch import Elasticsearch, helpers\n",
    "import os"
   ]
  },
  {
   "cell_type": "code",
   "execution_count": null,
   "metadata": {},
   "outputs": [],
   "source": [
    "## LakeFS\n",
    "lakefs_host= os.environ.get(\"lakefs_host\")\n",
    "lakefs_username= os.environ.get(\"lakefs_username\")\n",
    "lakefs_password= os.environ.get(\"lakefs_password\")\n",
    "lakefs_repository= os.environ.get(\"lakefs_repository\")\n",
    "lakefs_branch= os.environ.get(\"lakefs_branch\")\n",
    "lakefs_dataset= os.environ.get(\"lakefs_dataset\")"
   ]
  },
  {
   "cell_type": "code",
   "execution_count": 3,
   "metadata": {},
   "outputs": [],
   "source": [
    "JUDGE_API_KEY = SecretStr(os.environ.get(\"judge_api_key\"))\n",
    "ELASTIC_URL = os.environ.get('ELASTIC_URL')\n",
    "ELASTIC_AUTH = [os.environ.get('ELASTIC_AUTH_USER'), os.environ.get('ELASTIC_AUTH_PASSWORD')]\n",
    "RUN_NAME= os.environ.get(\"run_name\")\n",
    "index_name = f\"{RUN_NAME}-bias\""
   ]
  },
  {
   "cell_type": "code",
   "execution_count": null,
   "metadata": {},
   "outputs": [],
   "source": [
    "metrics = Context.run(\n",
    "    LakeFSRetriever,\n",
    "    judge_api_key=JUDGE_API_KEY,\n",
    "    lakefs_host=lakefs_host,\n",
    "    lakefs_username=lakefs_username,\n",
    "    lakefs_password=lakefs_password,\n",
    "    lakefs_repository=lakefs_repository,\n",
    "    lakefs_branch=lakefs_branch,\n",
    "    lakefs_dataset=lakefs_dataset\n",
    ")"
   ]
  },
  {
   "cell_type": "code",
   "execution_count": null,
   "metadata": {},
   "outputs": [],
   "source": [
    "es = Elasticsearch(\n",
    "    ELASTIC_URL,\n",
    "    basic_auth=tuple(ELASTIC_AUTH),\n",
    ")"
   ]
  },
  {
   "cell_type": "code",
   "execution_count": null,
   "id": "d3f0cd6d-be23-4a3b-8eb6-3351e72125dd",
   "metadata": {},
   "outputs": [],
   "source": [
    "def recreate_index(index_name: str, mapping: dict):\n",
    "    if es.indices.exists(index=index_name):\n",
    "        es.indices.delete(index=index_name)\n",
    "        print(f\"Index '{index_name}' deleted.\")\n",
    "    es.indices.create(index=index_name, body=mapping)\n",
    "    print(f\"Index '{index_name}' created.\")"
   ]
  },
  {
   "cell_type": "code",
   "execution_count": null,
   "metadata": {},
   "outputs": [],
   "source": [
    "mapping_contextualizer = {\n",
    "  \"mappings\": {\n",
    "    \"properties\": {\n",
    "      \"session_id\": {\"type\": \"keyword\"},\n",
    "      \"context\": {\"type\": \"text\"},\n",
    "      \"context_insight\": {\"type\": \"text\"},\n",
    "      \"context_awareness\": {\"type\": \"float\"},\n",
    "      \"context_thinkings\": {\"type\": \"text\"},\n",
    "      \"qa_id\": {\"type\": \"keyword\"},\n",
    "      \"assistant_id\": {\"type\": \"keyword\"},\n",
    "    }\n",
    "  }\n",
    "}\n",
    "\n",
    "recreate_index(index_name, mapping_contextualizer)"
   ]
  },
  {
   "cell_type": "code",
   "execution_count": null,
   "metadata": {},
   "outputs": [],
   "source": [
    "docs = []\n",
    "for metric in metrics:\n",
    "    docs.append({\n",
    "            \"_index\": index_name,\n",
    "            \"_source\": metric.model_dump()\n",
    "    })\n",
    "\n",
    "helpers.bulk(es, docs)\n",
    "print(f\"Indexed {len(docs)} documents.\")"
   ]
  }
 ],
 "metadata": {
  "kernelspec": {
   "display_name": "venv",
   "language": "python",
   "name": "python3"
  },
  "language_info": {
   "codemirror_mode": {
    "name": "ipython",
    "version": 3
   },
   "file_extension": ".py",
   "mimetype": "text/x-python",
   "name": "python",
   "nbconvert_exporter": "python",
   "pygments_lexer": "ipython3",
   "version": "3.12.9"
  }
 },
 "nbformat": 4,
 "nbformat_minor": 4
}
