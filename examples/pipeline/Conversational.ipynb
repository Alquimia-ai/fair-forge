{
 "cells": [
  {
   "cell_type": "code",
   "execution_count": null,
   "id": "aff02e77-ce1c-4b99-b3dd-c8ed2db1ad83",
   "metadata": {},
   "outputs": [],
   "source": [
    "%pip install dist/alquimia_fair_forge-0.0.1.tar.gz 'elasticsearch>=7.0.0,<8.0.0' -q"
   ]
  },
  {
   "cell_type": "code",
   "execution_count": null,
   "id": "ad4a3e22-58e8-4953-8abf-24bfd9791e45",
   "metadata": {},
   "outputs": [],
   "source": [
    "from fair_forge.metrics import Conversational\n",
    "from pydantic import SecretStr\n",
    "from helpers.retriever import LakeFSRetriever\n",
    "from elasticsearch import Elasticsearch, helpers\n",
    "import os"
   ]
  },
  {
   "cell_type": "code",
   "execution_count": 3,
   "metadata": {},
   "outputs": [],
   "source": [
    "JUDGE_API_KEY = SecretStr(os.environ.get(\"judge_api_key\"))\n",
    "ELASTIC_HOST = os.environ.get('ELASTIC_HOST')\n",
    "ELASTIC_AUTH_USER = os.environ.get('ELASTIC_AUTH_USER')\n",
    "ELASTIC_AUTH_PASSWORD = os.environ.get('ELASTIC_AUTH_PASSWORD')\n",
    "RUN_NAME= os.environ.get(\"run_name\")\n",
    "index_name = f\"{RUN_NAME}-bias\""
   ]
  },
  {
   "cell_type": "code",
   "execution_count": null,
   "metadata": {},
   "outputs": [],
   "source": [
    "metrics = Conversational.run(\n",
    "    LakeFSRetriever,\n",
    "    judge_api_key=JUDGE_API_KEY,\n",
    "    verbose=True\n",
    ")"
   ]
  },
  {
   "cell_type": "code",
   "execution_count": null,
   "metadata": {},
   "outputs": [],
   "source": [
    "es = Elasticsearch([f'https://{ELASTIC_AUTH_USER}:{ELASTIC_AUTH_PASSWORD}@{ELASTIC_HOST}:443'])"
   ]
  },
  {
   "cell_type": "code",
   "execution_count": null,
   "id": "d3f0cd6d-be23-4a3b-8eb6-3351e72125dd",
   "metadata": {},
   "outputs": [],
   "source": [
    "def recreate_index(index_name: str, mapping: dict):\n",
    "    if es.indices.exists(index=index_name):\n",
    "        es.indices.delete(index=index_name)\n",
    "        print(f\"Index '{index_name}' deleted.\")\n",
    "    es.indices.create(index=index_name, body=mapping)\n",
    "    print(f\"Index '{index_name}' created.\")"
   ]
  },
  {
   "cell_type": "code",
   "execution_count": null,
   "metadata": {},
   "outputs": [],
   "source": [
    "mapping_conversational = {\n",
    "  \"mappings\": {\n",
    "    \"properties\": {\n",
    "      \"session_id\": {\"type\": \"keyword\"},\n",
    "      \"conversational_memory\": {\"type\": \"float\"},\n",
    "      \"conversational_insight\": {\"type\": \"text\"},\n",
    "      \"conversational_language\": {\"type\": \"float\"},\n",
    "      \"conversational_quality_maxim\": {\"type\": \"float\"},\n",
    "      \"conversational_quantity_maxim\": {\"type\": \"float\"},\n",
    "      \"conversational_relation_maxim\": {\"type\": \"float\"},\n",
    "      \"conversational_manner_maxim\": {\"type\": \"float\"},\n",
    "      \"conversational_sensibleness\": {\"type\": \"float\"},\n",
    "      \"conversational_thinkings\": {\"type\": \"text\"},\n",
    "      \"qa_id\": {\"type\": \"keyword\"},\n",
    "      \"assistant_id\": {\"type\": \"keyword\"}\n",
    "    }\n",
    "  }\n",
    "}\n",
    "recreate_index(index_name, mapping_conversational)"
   ]
  },
  {
   "cell_type": "code",
   "execution_count": null,
   "metadata": {},
   "outputs": [],
   "source": [
    "docs = []\n",
    "for metric in metrics:\n",
    "    docs.append({\n",
    "            \"_index\": index_name,\n",
    "            \"_source\": metric.model_dump()\n",
    "    })\n",
    "\n",
    "helpers.bulk(es, docs)\n",
    "print(f\"Indexed {len(docs)} documents.\")"
   ]
  }
 ],
 "metadata": {
  "kernelspec": {
   "display_name": "venv",
   "language": "python",
   "name": "python3"
  },
  "language_info": {
   "codemirror_mode": {
    "name": "ipython",
    "version": 3
   },
   "file_extension": ".py",
   "mimetype": "text/x-python",
   "name": "python",
   "nbconvert_exporter": "python",
   "pygments_lexer": "ipython3",
   "version": "3.12.9"
  }
 },
 "nbformat": 4,
 "nbformat_minor": 4
}
