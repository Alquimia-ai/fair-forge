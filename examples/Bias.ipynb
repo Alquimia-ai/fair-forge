{
 "cells": [
  {
   "cell_type": "code",
   "execution_count": null,
   "id": "aff02e77-ce1c-4b99-b3dd-c8ed2db1ad83",
   "metadata": {},
   "outputs": [],
   "source": [
    "!pip install --force-reinstall dist/alquimia_fair_forge-0.0.1.tar.gz -q"
   ]
  },
  {
   "cell_type": "code",
   "execution_count": null,
   "id": "ad4a3e22-58e8-4953-8abf-24bfd9791e45",
   "metadata": {},
   "outputs": [],
   "source": [
    "from helpers.dataset import LocalRetriever\n",
    "from fair_forge.metrics import Bias\n",
    "from pydantic import SecretStr\n",
    "import os"
   ]
  },
  {
   "cell_type": "code",
   "execution_count": 3,
   "metadata": {},
   "outputs": [],
   "source": [
    "from getpass import getpass\n",
    "guardian_api_key = SecretStr(getpass(\"Please enter your Judge API key: \"))"
   ]
  },
  {
   "cell_type": "code",
   "execution_count": 4,
   "metadata": {},
   "outputs": [],
   "source": [
    "ELASTIC_URL = os.environ.get('ELASTIC_URL')\n",
    "ELASTIC_AUTH = [os.environ.get('ELASTIC_AUTH_USER'), os.environ.get('ELASTIC_AUTH_PASSWORD')]\n",
    "GUARDIAN_URL = os.environ.get(\"GUARDIAN_URL\",\"https://runtime.apps.hostmydemo.online\")\n",
    "GUARDIAN_MODEL_NAME = os.environ.get(\"GUARDIAN_MODEL_NAME\",\"ibm-granite/granite-guardian-3.1-2b\")\n",
    "GUARDIAN_API_KEY = guardian_api_key\n",
    "dataset = os.environ.get(\"dataset\", \"asb\")\n",
    "bias_index = f\"{dataset}-bias\"\n",
    "guardian_temperature = 0.01\n",
    "max_tokens = 5"
   ]
  },
  {
   "cell_type": "code",
   "execution_count": 5,
   "metadata": {},
   "outputs": [],
   "source": [
    "metrics= Bias.run(\n",
    "    CustomRetriever,\n",
    "    guardian_url=GUARDIAN_URL,\n",
    "    guardian_api_key= GUARDIAN_API_KEY,\n",
    "    guardian_model= GUARDIAN_MODEL_NAME,\n",
    "    guardian_temperature= guardian_temperature,\n",
    "    max_tokens= max_tokens\n",
    ")"
   ]
  },
  {
   "cell_type": "code",
   "execution_count": null,
   "metadata": {},
   "outputs": [],
   "source": [
    "es = Elasticsearch(\n",
    "    ELASTIC_URL,\n",
    "    basic_auth=tuple(ELASTIC_AUTH),\n",
    ")"
   ]
  },
  {
   "cell_type": "code",
   "execution_count": null,
   "metadata": {},
   "outputs": [],
   "source": [
    "def recreate_index(index_name: str, mapping: dict):\n",
    "    if es.indices.exists(index=index_name):\n",
    "        es.indices.delete(index=index_name)\n",
    "        print(f\"Index '{index_name}' deleted.\")\n",
    "    es.indices.create(index=index_name, body=mapping)\n",
    "    print(f\"Index '{index_name}' created.\")"
   ]
  },
  {
   "cell_type": "code",
   "execution_count": null,
   "metadata": {},
   "outputs": [],
   "source": [
    "def flatten_guard_metrics(metrics):\n",
    "    flattened = []\n",
    "    for metric in metrics:\n",
    "        for risk in metric.risks:\n",
    "            flattened.append(\n",
    "                {\n",
    "                    \"session_id\": metric.session_id,\n",
    "                    \"qa_id\": metric.qa_id,\n",
    "                    \"assistant_id\": metric.assistant_id,\n",
    "                    'bias_guard_is_risk': risk.is_risk,\n",
    "                    'bias_guard_type': risk.risk_type,\n",
    "                    'bias_guard_probability': risk.probability\n",
    "                }\n",
    "            )\n",
    "    return flattened\n",
    "flattened = flatten_guard_metrics(metrics)"
   ]
  },
  {
   "cell_type": "code",
   "execution_count": null,
   "metadata": {},
   "outputs": [],
   "source": [
    "mapping_bias = {\n",
    "  \"mappings\": {\n",
    "    \"properties\": {\n",
    "      \"session_id\": {\"type\": \"keyword\"},\n",
    "      \"bias_guard_is_risk\": {\"type\": \"boolean\"},\n",
    "      \"bias_guard_type\": {\"type\": \"text\"},\n",
    "      \"bias_guard_probability\": {\"type\": \"float\"},\n",
    "      \"assistant_id\": {\"type\": \"keyword\"},\n",
    "      \"qa_id\": {\"type\": \"keyword\"},\n",
    "    }\n",
    "  }\n",
    "}"
   ]
  },
  {
   "cell_type": "code",
   "execution_count": null,
   "metadata": {},
   "outputs": [],
   "source": [
    "recreate_index(bias_index, mapping_bias)"
   ]
  },
  {
   "cell_type": "code",
   "execution_count": null,
   "metadata": {},
   "outputs": [],
   "source": [
    "docs = []\n",
    "for flatten in flattened:\n",
    "    docs.append({\n",
    "            \"_index\": bias_index,\n",
    "            \"_source\": flatten\n",
    "    })\n",
    "\n",
    "helpers.bulk(es, docs)\n",
    "print(f\"Indexed {len(docs)} documents.\")"
   ]
  }
 ],
 "metadata": {
  "kernelspec": {
   "display_name": "venv",
   "language": "python",
   "name": "python3"
  },
  "language_info": {
   "codemirror_mode": {
    "name": "ipython",
    "version": 3
   },
   "file_extension": ".py",
   "mimetype": "text/x-python",
   "name": "python",
   "nbconvert_exporter": "python",
   "pygments_lexer": "ipython3",
   "version": "3.12.9"
  }
 },
 "nbformat": 4,
 "nbformat_minor": 4
}
