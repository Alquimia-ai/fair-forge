{
 "cells": [
  {
   "cell_type": "code",
   "execution_count": null,
   "id": "aff02e77-ce1c-4b99-b3dd-c8ed2db1ad83",
   "metadata": {},
   "outputs": [],
   "source": [
    "!pip install -r requirements.txt -q"
   ]
  },
  {
   "cell_type": "code",
   "execution_count": null,
   "id": "ad4a3e22-58e8-4953-8abf-24bfd9791e45",
   "metadata": {},
   "outputs": [],
   "source": [
    "import os\n",
    "from helpers.dataset import load_dataset,Conversation\n",
    "from helpers.fair_forge import FairForge\n",
    "from elasticsearch import Elasticsearch, helpers\n",
    "from helpers.guardian import Guardian\n",
    "from pydantic import BaseModel"
   ]
  },
  {
   "cell_type": "code",
   "execution_count": null,
   "metadata": {},
   "outputs": [],
   "source": [
    "class BiasBatch(BaseModel):\n",
    "    session_id: str\n",
    "    risks: list\n",
    "    qa_id: str\n",
    "    assistant_id: str"
   ]
  },
  {
   "cell_type": "code",
   "execution_count": null,
   "metadata": {},
   "outputs": [],
   "source": [
    "ELASTIC_URL = os.environ.get('ELASTIC_URL')\n",
    "ELASTIC_AUTH = [os.environ.get('ELASTIC_AUTH_USER'), os.environ.get('ELASTIC_AUTH_PASSWORD')]\n",
    "GUARDIAN_URL = os.environ.get(\"GUARDIAN_URL\")\n",
    "GUARDIAN_MODEL_NAME = os.environ.get(\"GUARDIAN_MODEL_NAME\")\n",
    "GUARDIAN_API_KEY = os.environ.get(\"GUARDIAN_API_KEY\")\n",
    "GUARDIAN_MODEL = os.environ.get(\"GUARDIAN_MODEL\")\n",
    "dataset = os.environ.get(\"dataset\", \"asb\")\n",
    "bias_index = f\"{dataset}-bias\"\n",
    "guardian_temperature = 0.01\n",
    "max_tokens = 5"
   ]
  },
  {
   "cell_type": "code",
   "execution_count": null,
   "metadata": {},
   "outputs": [],
   "source": [
    "es = Elasticsearch(\n",
    "    ELASTIC_URL,\n",
    "    basic_auth=tuple(ELASTIC_AUTH),\n",
    ")"
   ]
  },
  {
   "cell_type": "code",
   "execution_count": null,
   "metadata": {},
   "outputs": [],
   "source": [
    "def recreate_index(index_name: str, mapping: dict):\n",
    "    if es.indices.exists(index=index_name):\n",
    "        es.indices.delete(index=index_name)\n",
    "        print(f\"Index '{index_name}' deleted.\")\n",
    "    es.indices.create(index=index_name, body=mapping)\n",
    "    print(f\"Index '{index_name}' created.\")"
   ]
  },
  {
   "cell_type": "code",
   "execution_count": null,
   "metadata": {},
   "outputs": [],
   "source": [
    "if GUARDIAN_URL is None or GUARDIAN_API_KEY is None or GUARDIAN_MODEL is None:\n",
    "    raise Exception(\"Guardian variables are missing\")"
   ]
  },
  {
   "cell_type": "code",
   "execution_count": null,
   "metadata": {},
   "outputs": [],
   "source": [
    "class BiasBatch(BaseModel):\n",
    "    session_id: str\n",
    "    risks: list\n",
    "    qa_id: str\n",
    "    assistant_id: str"
   ]
  },
  {
   "cell_type": "code",
   "execution_count": null,
   "metadata": {},
   "outputs": [],
   "source": [
    "class BiasAnalyzer(FairForge):\n",
    "    def process(self, thread: Conversation):\n",
    "        guardian = Guardian(GUARDIAN_URL, GUARDIAN_MODEL_NAME, GUARDIAN_API_KEY,\n",
    "                            GUARDIAN_MODEL, guardian_temperature, max_tokens)\n",
    "        for batch in thread.conversation:\n",
    "            batch = BiasBatch(\n",
    "                risks=guardian.detect(batch, thread.context),\n",
    "                session_id=thread.session_id,\n",
    "                qa_id=batch.qa_id,\n",
    "                assistant_id=thread.assistant_id,\n",
    "            )\n",
    "            self.metrics.append(batch)"
   ]
  },
  {
   "cell_type": "code",
   "execution_count": null,
   "metadata": {},
   "outputs": [],
   "source": [
    "bias = BiasAnalyzer()\n",
    "metrics = bias.pipeline()"
   ]
  },
  {
   "cell_type": "code",
   "execution_count": null,
   "metadata": {},
   "outputs": [],
   "source": [
    "def flatten_guard_metrics(metrics):\n",
    "    flattened = []\n",
    "    for metric in metrics:\n",
    "        for risk in metric.risks:\n",
    "            flattened.append(\n",
    "                {\n",
    "                    \"session_id\": metric.session_id,\n",
    "                    \"qa_id\": metric.qa_id,\n",
    "                    \"assistant_id\": metric.assistant_id,\n",
    "                    'bias_guard_is_risk': risk.is_risk,\n",
    "                    'bias_guard_type': risk.risk_type,\n",
    "                    'bias_guard_probability': risk.probability\n",
    "                }\n",
    "            )\n",
    "    return flattened\n",
    "flattened = flatten_guard_metrics(metrics)"
   ]
  },
  {
   "cell_type": "code",
   "execution_count": null,
   "metadata": {},
   "outputs": [],
   "source": [
    "mapping_bias = {\n",
    "  \"mappings\": {\n",
    "    \"properties\": {\n",
    "      \"session_id\": {\"type\": \"keyword\"},\n",
    "      \"bias_guard_is_risk\": {\"type\": \"boolean\"},\n",
    "      \"bias_guard_type\": {\"type\": \"text\"},\n",
    "      \"bias_guard_probability\": {\"type\": \"float\"},\n",
    "      \"assistant_id\": {\"type\": \"keyword\"},\n",
    "      \"qa_id\": {\"type\": \"keyword\"},\n",
    "    }\n",
    "  }\n",
    "}"
   ]
  },
  {
   "cell_type": "code",
   "execution_count": null,
   "metadata": {},
   "outputs": [],
   "source": [
    "recreate_index(bias_index, mapping_bias)"
   ]
  },
  {
   "cell_type": "code",
   "execution_count": null,
   "metadata": {},
   "outputs": [],
   "source": [
    "docs = []\n",
    "for flatten in flattened:\n",
    "    docs.append({\n",
    "            \"_index\": bias_index,\n",
    "            \"_source\": flatten\n",
    "    })\n",
    "\n",
    "helpers.bulk(es, docs)\n",
    "print(f\"Indexed {len(docs)} documents.\")"
   ]
  }
 ],
 "metadata": {
  "kernelspec": {
   "display_name": "Python 3",
   "language": "python",
   "name": "python3"
  },
  "language_info": {
   "codemirror_mode": {
    "name": "ipython",
    "version": 3
   },
   "file_extension": ".py",
   "mimetype": "text/x-python",
   "name": "python",
   "nbconvert_exporter": "python",
   "pygments_lexer": "ipython3",
   "version": "3.8.0"
  }
 },
 "nbformat": 4,
 "nbformat_minor": 4
}
