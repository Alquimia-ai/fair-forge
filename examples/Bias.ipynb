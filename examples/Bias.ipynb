{
 "cells": [
  {
   "cell_type": "code",
   "execution_count": null,
   "id": "aff02e77-ce1c-4b99-b3dd-c8ed2db1ad83",
   "metadata": {},
   "outputs": [],
   "source": [
    "!pip install dist/alquimia-fair-forge-0.0.1.tar.gz -q"
   ]
  },
  {
   "cell_type": "code",
   "execution_count": 2,
   "id": "ad4a3e22-58e8-4953-8abf-24bfd9791e45",
   "metadata": {},
   "outputs": [],
   "source": [
    "from helpers.retriever import LocalRetriever\n",
    "from fair_forge.metrics import Bias\n",
    "from pydantic import SecretStr\n",
    "import os"
   ]
  },
  {
   "cell_type": "code",
   "execution_count": 13,
   "metadata": {},
   "outputs": [],
   "source": [
    "from getpass import getpass\n",
    "guardian_api_key = SecretStr(getpass(\"Please enter your Guardian LLM API key: \"))"
   ]
  },
  {
   "cell_type": "code",
   "execution_count": 14,
   "metadata": {},
   "outputs": [],
   "source": [
    "ELASTIC_URL = os.environ.get('ELASTIC_URL')\n",
    "ELASTIC_AUTH = [os.environ.get('ELASTIC_AUTH_USER'), os.environ.get('ELASTIC_AUTH_PASSWORD')]\n",
    "dataset = os.environ.get(\"dataset\", \"asb\")\n",
    "bias_index = f\"{dataset}-bias\"\n",
    "guardian_temperature = 0.5\n",
    "max_tokens = 5"
   ]
  },
  {
   "cell_type": "code",
   "execution_count": 15,
   "metadata": {},
   "outputs": [],
   "source": [
    "## GRANITE\n",
    "GUARDIAN_URL = os.environ.get(\"GUARDIAN_URL\",\"https://runtime.apps.hostmydemo.online\")\n",
    "GUARDIAN_MODEL_NAME = os.environ.get(\"GUARDIAN_MODEL_NAME\",\"ibm-granite/granite-guardian-3.1-2b\")\n",
    "GUARDIAN_API_KEY = guardian_api_key"
   ]
  },
  {
   "cell_type": "code",
   "execution_count": 5,
   "metadata": {},
   "outputs": [],
   "source": [
    "## LLAMA GUARD\n",
    "GUARDIAN_URL = \"https://api.groq.com/openai\"\n",
    "GUARDIAN_MODEL_NAME = \"meta-llama/Llama-Guard-4-12B\"\n",
    "hf_token = SecretStr(getpass(\"Please enter your Hugging Face token: \"))\n",
    "os.environ[\"HF_TOKEN\"] = hf_token.get_secret_value()\n",
    "GUARDIAN_API_KEY = guardian_api_key"
   ]
  },
  {
   "cell_type": "code",
   "execution_count": 16,
   "metadata": {},
   "outputs": [],
   "source": [
    "from fair_forge.guardians import LLamaGuard,IBMGranite\n",
    "from fair_forge.guardians.llms.providers import OpenAIGuardianProvider\n",
    "from fair_forge.schemas import GuardianLLMConfig"
   ]
  },
  {
   "cell_type": "code",
   "execution_count": null,
   "metadata": {},
   "outputs": [],
   "source": [
    "metrics= Bias.run(\n",
    "    LocalRetriever,\n",
    "    guardian = IBMGranite,\n",
    "    confidence_level= 0.90,\n",
    "    config = GuardianLLMConfig(\n",
    "        model= GUARDIAN_MODEL_NAME,\n",
    "        api_key= GUARDIAN_API_KEY.get_secret_value(),\n",
    "        url=GUARDIAN_URL,\n",
    "        temperature=guardian_temperature,\n",
    "        provider=OpenAIGuardianProvider,\n",
    "        logprobs= False\n",
    "    ),\n",
    "    verbose=True\n",
    ")"
   ]
  },
  {
   "cell_type": "code",
   "execution_count": null,
   "metadata": {},
   "outputs": [],
   "source": [
    "for metric in metrics:\n",
    "    print(\"---\")\n",
    "    print(f\"Protected attribute: {metric.guardian_attributes_confidence_interval.protected_attribute}\")\n",
    "    print(f\"Confidence level: {metric.guardian_attributes_confidence_interval.confidence_level}\")\n",
    "    print(f\"Lower bound: {metric.guardian_attributes_confidence_interval.lower_bound}\")\n",
    "    print(f\"Probability: {metric.guardian_attributes_confidence_interval.probability}\")\n",
    "    print(f\"Upper bound: {metric.guardian_attributes_confidence_interval.upper_bound}\")"
   ]
  },
  {
   "cell_type": "code",
   "execution_count": null,
   "metadata": {},
   "outputs": [],
   "source": [
    "es = Elasticsearch(\n",
    "    ELASTIC_URL,\n",
    "    basic_auth=tuple(ELASTIC_AUTH),\n",
    ")"
   ]
  },
  {
   "cell_type": "code",
   "execution_count": null,
   "metadata": {},
   "outputs": [],
   "source": [
    "def recreate_index(index_name: str, mapping: dict):\n",
    "    if es.indices.exists(index=index_name):\n",
    "        es.indices.delete(index=index_name)\n",
    "        print(f\"Index '{index_name}' deleted.\")\n",
    "    es.indices.create(index=index_name, body=mapping)\n",
    "    print(f\"Index '{index_name}' created.\")"
   ]
  },
  {
   "cell_type": "code",
   "execution_count": null,
   "metadata": {},
   "outputs": [],
   "source": [
    "def flatten_guard_metrics(metrics):\n",
    "    flattened = []\n",
    "    for metric in metrics:\n",
    "        for risk in metric.risks:\n",
    "            flattened.append(\n",
    "                {\n",
    "                    \"session_id\": metric.session_id,\n",
    "                    \"qa_id\": metric.qa_id,\n",
    "                    \"assistant_id\": metric.assistant_id,\n",
    "                    'bias_guard_is_risk': risk.is_risk,\n",
    "                    'bias_guard_type': risk.risk_type,\n",
    "                    'bias_guard_probability': risk.probability\n",
    "                }\n",
    "            )\n",
    "    return flattened\n",
    "flattened = flatten_guard_metrics(metrics)"
   ]
  },
  {
   "cell_type": "code",
   "execution_count": null,
   "metadata": {},
   "outputs": [],
   "source": [
    "mapping_bias = {\n",
    "  \"mappings\": {\n",
    "    \"properties\": {\n",
    "      \"session_id\": {\"type\": \"keyword\"},\n",
    "      \"bias_guard_is_risk\": {\"type\": \"boolean\"},\n",
    "      \"bias_guard_type\": {\"type\": \"text\"},\n",
    "      \"bias_guard_probability\": {\"type\": \"float\"},\n",
    "      \"assistant_id\": {\"type\": \"keyword\"},\n",
    "      \"qa_id\": {\"type\": \"keyword\"},\n",
    "    }\n",
    "  }\n",
    "}"
   ]
  },
  {
   "cell_type": "code",
   "execution_count": null,
   "metadata": {},
   "outputs": [],
   "source": [
    "recreate_index(bias_index, mapping_bias)"
   ]
  },
  {
   "cell_type": "code",
   "execution_count": null,
   "metadata": {},
   "outputs": [],
   "source": [
    "docs = []\n",
    "for flatten in flattened:\n",
    "    docs.append({\n",
    "            \"_index\": bias_index,\n",
    "            \"_source\": flatten\n",
    "    })\n",
    "\n",
    "helpers.bulk(es, docs)\n",
    "print(f\"Indexed {len(docs)} documents.\")"
   ]
  }
 ],
 "metadata": {
  "kernelspec": {
   "display_name": "venv",
   "language": "python",
   "name": "python3"
  },
  "language_info": {
   "codemirror_mode": {
    "name": "ipython",
    "version": 3
   },
   "file_extension": ".py",
   "mimetype": "text/x-python",
   "name": "python",
   "nbconvert_exporter": "python",
   "pygments_lexer": "ipython3",
   "version": "3.11.5"
  }
 },
 "nbformat": 4,
 "nbformat_minor": 4
}
