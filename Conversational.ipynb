{
 "cells": [
  {
   "cell_type": "code",
   "execution_count": null,
   "id": "aff02e77-ce1c-4b99-b3dd-c8ed2db1ad83",
   "metadata": {},
   "outputs": [],
   "source": [
    "!pip install -r requirements.txt -q"
   ]
  },
  {
   "cell_type": "code",
   "execution_count": null,
   "id": "ad4a3e22-58e8-4953-8abf-24bfd9791e45",
   "metadata": {},
   "outputs": [],
   "source": [
    "from helpers.dataset import Conversation\n",
    "from elasticsearch import Elasticsearch, helpers\n",
    "from pydantic import BaseModel\n",
    "import numpy as np\n",
    "import logging\n",
    "from typing import List\n",
    "import os\n",
    "from helpers.fair_forge import FairForge\n",
    "import pandas as pd\n",
    "import math\n",
    "import re\n",
    "from collections import defaultdict\n",
    "from scipy.stats import spearmanr"
   ]
  },
  {
   "cell_type": "code",
   "execution_count": null,
   "id": "80672b81-e63c-417f-93d6-3933a4c9fe91",
   "metadata": {},
   "outputs": [],
   "source": [
    "ELASTIC_URL = os.environ.get('ELASTIC_URL')\n",
    "ELASTIC_AUTH = [os.environ.get('ELASTIC_AUTH_USER'), os.environ.get('ELASTIC_AUTH_PASSWORD')]\n",
    "dataset = os.environ.get(\"dataset\", \"asb\")\n",
    "conversational_index = f\"{dataset}-conversational\""
   ]
  },
  {
   "cell_type": "code",
   "execution_count": null,
   "id": "99f3b8c4-5dd6-4a28-b1be-06ee5de7e025",
   "metadata": {},
   "outputs": [],
   "source": [
    "class ConversationalBatch(BaseModel):\n",
    "    session_id: str\n",
    "    conversational_memory: float\n",
    "    conversational_insight: str\n",
    "    conversational_language: float\n",
    "    conversational_quality_maxim: float\n",
    "    conversational_quantity_maxim: float\n",
    "    conversational_relation_maxim: float\n",
    "    conversational_manner_maxim: float\n",
    "    conversational_sensibleness: float\n",
    "    conversational_thinkings: str\n",
    "    qa_id: str\n",
    "    assistant_id: str\n",
    "\n",
    "class ConversationalMetric(BaseModel):\n",
    "    session_id: str\n",
    "    conv_thread: List[ConversationalBatch] = []"
   ]
  },
  {
   "cell_type": "code",
   "execution_count": null,
   "id": "d3f0cd6d-be23-4a3b-8eb6-3351e72125dd",
   "metadata": {},
   "outputs": [],
   "source": [
    "def recreate_index(index_name: str, mapping: dict):\n",
    "    if es.indices.exists(index=index_name):\n",
    "        es.indices.delete(index=index_name)\n",
    "        print(f\"Index '{index_name}' deleted.\")\n",
    "    es.indices.create(index=index_name, body=mapping)\n",
    "    print(f\"Index '{index_name}' created.\")"
   ]
  },
  {
   "cell_type": "code",
   "execution_count": null,
   "id": "32d34a60-b798-45a4-8f1b-51420cb7a003",
   "metadata": {},
   "outputs": [],
   "source": [
    "es = Elasticsearch(\n",
    "    ELASTIC_URL,\n",
    "    basic_auth=tuple(ELASTIC_AUTH),\n",
    ")"
   ]
  },
  {
   "cell_type": "code",
   "execution_count": null,
   "id": "0754d6b0-11dd-4b09-987a-dceae5014f56",
   "metadata": {},
   "outputs": [],
   "source": [
    "class ConversationalAnalyzer(FairForge):\n",
    "    def process(self, thread: Conversation):\n",
    "        for batch in thread.conversation:\n",
    "            query = batch.question\n",
    "            # Get emotional distribution for ground truth and real assistant\n",
    "            batch = ConversationalBatch(\n",
    "                conversational_memory=0.0,\n",
    "                conversational_insight=\"\",\n",
    "                conversational_language=0.0,\n",
    "                conversational_quality_maxim=0.0,\n",
    "                conversational_quantity_maxim=0.0,\n",
    "                conversational_relation_maxim=0.0,\n",
    "                conversational_manner_maxim=0.0,\n",
    "                conversational_sensibleness=0.0,\n",
    "                conversational_thinkings=\"\",\n",
    "                session_id=thread.session_id,\n",
    "                qa_id=batch.qa_id,\n",
    "                assistant_id=thread.assistant_id\n",
    "            )\n",
    "            self.metrics.append(batch)"
   ]
  },
  {
   "cell_type": "code",
   "execution_count": null,
   "id": "780f2af2-130f-4974-b0f5-ea35fc776de7",
   "metadata": {},
   "outputs": [],
   "source": [
    "conversational = ConversationalAnalyzer()\n",
    "metrics = conversational.pipeline()"
   ]
  },
  {
   "cell_type": "code",
   "execution_count": null,
   "id": "3cf13f41-55bd-4b38-93dc-7e18bab6a744",
   "metadata": {},
   "outputs": [],
   "source": [
    "mapping_conversational = {\n",
    "  \"mappings\": {\n",
    "    \"properties\": {\n",
    "      \"session_id\": {\"type\": \"keyword\"},\n",
    "      \"conversational_memory\": {\"type\": \"float\"},\n",
    "      \"conversational_insight\": {\"type\": \"text\"},\n",
    "      \"conversational_language\": {\"type\": \"float\"},\n",
    "      \"conversational_quality_maxim\": {\"type\": \"float\"},\n",
    "      \"conversational_quantity_maxim\": {\"type\": \"float\"},\n",
    "      \"conversational_relation_maxim\": {\"type\": \"float\"},\n",
    "      \"conversational_manner_maxim\": {\"type\": \"float\"},\n",
    "      \"conversational_sensibleness\": {\"type\": \"float\"},\n",
    "      \"conversational_thinkings\": {\"type\": \"text\"},\n",
    "      \"assistant_id\": {\"type\": \"keyword\"},\n",
    "      \"qa_id\": {\"type\": \"keyword\"},\n",
    "    }\n",
    "  }\n",
    "}"
   ]
  }
 ],
 "metadata": {
  "kernelspec": {
   "display_name": "Python 3",
   "language": "python",
   "name": "python3"
  },
  "language_info": {
   "codemirror_mode": {
    "name": "ipython",
    "version": 3
   },
   "file_extension": ".py",
   "mimetype": "text/x-python",
   "name": "python",
   "nbconvert_exporter": "python",
   "pygments_lexer": "ipython3",
   "version": "3.8.0"
  }
 },
 "nbformat": 4,
 "nbformat_minor": 4
}
